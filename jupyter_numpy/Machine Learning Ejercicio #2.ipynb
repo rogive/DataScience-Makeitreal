{
 "cells": [
  {
   "cell_type": "markdown",
   "metadata": {},
   "source": [
    "# Ejercicio #2"
   ]
  },
  {
   "cell_type": "markdown",
   "metadata": {},
   "source": [
    "## Parte 1"
   ]
  },
  {
   "cell_type": "markdown",
   "metadata": {},
   "source": [
    "Definimos una funcion llamada `get_gradient_at_b()` que toma como parametros un set de valores x, `x`, un set de valores y, `y` una pendiente de `m` y un valor de intercepcion de `b`. Por ahora retorne `b` sin ningun cambio"
   ]
  },
  {
   "cell_type": "code",
   "execution_count": 44,
   "metadata": {},
   "outputs": [],
   "source": [
    "def get_gradient_at_b(x, y, m, b):\n",
    "    return b"
   ]
  },
  {
   "cell_type": "markdown",
   "metadata": {},
   "source": [
    "En la funcion queremos ir atraves de todos los valores de `x` y a traves de todos los valores de `y` y computar la ecuacion de gradiente descendente `(y - (m*x+b))` en cada uno de ellos. Cree una variable llamada `diff` que tiene la suma de todos esos valores. Ahora en vez de retornar `b` de la funcion, returna `diff`"
   ]
  },
  {
   "cell_type": "code",
   "execution_count": 45,
   "metadata": {},
   "outputs": [],
   "source": [
    "#data\n",
    "x = [1, 2, 3]\n",
    "y = [5, 1, 3]\n",
    "N = len(x)\n",
    "m1 = 1\n",
    "b1 = 0\n"
   ]
  },
  {
   "cell_type": "code",
   "execution_count": 40,
   "metadata": {},
   "outputs": [
    {
     "data": {
      "text/plain": [
       "[4, -1, 0]"
      ]
     },
     "execution_count": 40,
     "metadata": {},
     "output_type": "execute_result"
    }
   ],
   "source": [
    "resultado = [get_gradient_at_b(xi, yi, m1, b1) for xi, yi in zip(x, y)]\n",
    "resultado"
   ]
  },
  {
   "cell_type": "code",
   "execution_count": 41,
   "metadata": {},
   "outputs": [
    {
     "data": {
      "text/plain": [
       "3"
      ]
     },
     "execution_count": 41,
     "metadata": {},
     "output_type": "execute_result"
    }
   ],
   "source": [
    "diff = sum(resultado)\n",
    "diff"
   ]
  },
  {
   "cell_type": "markdown",
   "metadata": {},
   "source": [
    "Ahora creemos en la funcion una variable llamada `b_gradient` y la creamos igual a `-2/N` multiplicado por `diff`\n",
    "\n",
    "Nota: `N` es el numero de puntos, por ejemplo el `length` de la lista `x` o de la `y`\n",
    "\n",
    "En vez de retornar `diff`, retorne `b_gradient`"
   ]
  },
  {
   "cell_type": "code",
   "execution_count": 42,
   "metadata": {},
   "outputs": [
    {
     "data": {
      "text/plain": [
       "-2.0"
      ]
     },
     "execution_count": 42,
     "metadata": {},
     "output_type": "execute_result"
    }
   ],
   "source": [
    "b_gradient = (-2/N) * diff\n",
    "b_gradient"
   ]
  },
  {
   "cell_type": "code",
   "execution_count": 54,
   "metadata": {},
   "outputs": [],
   "source": [
    "def get_gradient_at_b(x, y, m, b):\n",
    "    resultado = [(yi - (m*xi+b)) for xi, yi in zip(x, y)]\n",
    "    diff = sum(resultado)\n",
    "    b_gradient = (-2/N) * diff\n",
    "    return b_gradient"
   ]
  },
  {
   "cell_type": "code",
   "execution_count": 55,
   "metadata": {},
   "outputs": [
    {
     "data": {
      "text/plain": [
       "-2.0"
      ]
     },
     "execution_count": 55,
     "metadata": {},
     "output_type": "execute_result"
    }
   ],
   "source": [
    "get_gradient_at_b_(x, y, m1, b1)"
   ]
  },
  {
   "cell_type": "markdown",
   "metadata": {},
   "source": [
    "## Parte 2"
   ]
  },
  {
   "cell_type": "markdown",
   "metadata": {},
   "source": [
    "Defina una funcion llamada `get_gradient_at_m()` que toma una set de valores x, `x`, y un set de valores y, `y`, una pendiente `m` y un valor de intercepcion `b`. Por ahora solo retorne `m` sin ninguna modificacion"
   ]
  },
  {
   "cell_type": "markdown",
   "metadata": {},
   "source": [
    "En esta funcion queremos ir a traves de todos los valores de `x` y todos los valores de `y` compuntando esta operacion `x*(y - (m*x+b))` en cada uno de ellos. \n",
    "\n",
    "Cree una variable llamada `diff` que es la suma de todos estos valores, y retornelos de la funcion"
   ]
  },
  {
   "cell_type": "code",
   "execution_count": null,
   "metadata": {},
   "outputs": [],
   "source": [
    "#data\n",
    "x = [1, 2, 3]\n",
    "y = [5, 1, 3]\n",
    "N = len(x)\n",
    "m1 = 1\n",
    "b1 = 0\n"
   ]
  },
  {
   "cell_type": "markdown",
   "metadata": {},
   "source": [
    "Defina una variable llamada `m_gradient` y pongala igual a `-2/N` multiplicado por `diff`. En vez de retornar `diff` ahora retorna `m_gradient`"
   ]
  },
  {
   "cell_type": "code",
   "execution_count": 51,
   "metadata": {},
   "outputs": [],
   "source": [
    "def get_gradient_at_m(x, y, m, b):\n",
    "    resultado = [xi*(yi - (m*xi+b)) for xi, yi in zip(x, y)]\n",
    "    diff = sum(resultado)\n",
    "    m_gradient = (-2/N) * diff\n",
    "    return m_gradient"
   ]
  },
  {
   "cell_type": "code",
   "execution_count": 53,
   "metadata": {},
   "outputs": [
    {
     "data": {
      "text/plain": [
       "-1.3333333333333333"
      ]
     },
     "execution_count": 53,
     "metadata": {},
     "output_type": "execute_result"
    }
   ],
   "source": [
    "get_gradient_at_m(x, y, m1, b1)"
   ]
  },
  {
   "cell_type": "markdown",
   "metadata": {},
   "source": [
    "## Parte 3"
   ]
  },
  {
   "cell_type": "markdown",
   "metadata": {},
   "source": [
    "Defina una funcion llamada `step_gradient()` que recibe los parametros `x`, `y`, `b_current`, y `m_current`. \n",
    "\n",
    "Dentro de `step_gradient()` encuentre el `b_current` y el `m_current` usando las funciones definidas anteriormente (`get_gradient_at_b` y `get_gradient_at_m`). Guarde esos gradientes en unas variables llamadas `b_gradient` y `m_gradient` y retornelas como dos listas."
   ]
  },
  {
   "cell_type": "code",
   "execution_count": 94,
   "metadata": {},
   "outputs": [],
   "source": [
    "#data\n",
    "x = [1, 2, 3]\n",
    "y = [5, 1, 3]\n",
    "N = len(x)\n",
    "m1 = 1\n",
    "b1 = 0"
   ]
  },
  {
   "cell_type": "markdown",
   "metadata": {},
   "source": [
    "Ahora vamos a tratar de mover los valores del parametro en la direccion del gradiente a una tasa de `0.01`. Cree las variables `b` y `m`. \n",
    "\n",
    "- `b` deberia ser `b_current - (0.01 * b_gradient)`\n",
    "- `m` deberia ser `m_current - (0.01 * m_gradient)`\n",
    "\n",
    "Retorne ambas variables de la funcion, en vez de `b_gradient` y `m_gradient`"
   ]
  },
  {
   "cell_type": "code",
   "execution_count": 95,
   "metadata": {},
   "outputs": [],
   "source": [
    "def step_gradient(x, y, m_current, b_current, h):\n",
    "    m_gradient = get_gradient_at_m(x, y, m1, b1)\n",
    "    b_gradient = get_gradient_at_b(x, y, m1, b1)\n",
    "    m = m_current - (h * m_gradient)\n",
    "    b = b_current - (h * b_gradient)\n",
    "    return [m, b, m_gradient, b_gradient]"
   ]
  },
  {
   "cell_type": "code",
   "execution_count": 96,
   "metadata": {},
   "outputs": [
    {
     "data": {
      "text/plain": [
       "[1.0133333333333334, 0.02, -1.3333333333333333, -2.0]"
      ]
     },
     "execution_count": 96,
     "metadata": {},
     "output_type": "execute_result"
    }
   ],
   "source": [
    "step_gradient(x, y, m1, b1, 0.01)"
   ]
  },
  {
   "cell_type": "markdown",
   "metadata": {},
   "source": [
    "Le hemos proveido los datos de Sandra's Lemonade una vez mas. Tenemos tambien la suposicion para lo que deberia ser `b` y `m`\n",
    "\n",
    "```\n",
    "months = [1, 2, 3, 4, 5, 6, 7, 8, 9, 10, 11, 12]\n",
    "revenue = [52, 74, 79, 95, 115, 110, 129, 126, 147, 146, 156, 184]\n",
    "\n",
    "# current intercept guess:\n",
    "b = 0\n",
    "# current slope guess:\n",
    "m = 0\n",
    "\n",
    "```\n",
    "\n",
    "Llame la funcion para correr un paso del gradiente descendente. Guarde los resultados en las varaibles `b` y `m`.\n",
    "\n",
    "¡Genial! Tenemos una manera de pasar a los nuevos valores `b` y `m`! A continuación, llamaremos a esta función un montón, con el fin de mover esos valores hacia una pérdida cada vez menor."
   ]
  },
  {
   "cell_type": "code",
   "execution_count": 115,
   "metadata": {},
   "outputs": [
    {
     "data": {
      "text/plain": [
       "[17.78333333333333, 2.355, -1778.3333333333333, -235.5]"
      ]
     },
     "execution_count": 115,
     "metadata": {},
     "output_type": "execute_result"
    }
   ],
   "source": [
    "#data\n",
    "months = [1, 2, 3, 4, 5, 6, 7, 8, 9, 10, 11, 12]\n",
    "revenue = [52, 74, 79, 95, 115, 110, 129, 126, 147, 146, 156, 184]\n",
    "N = len(months)\n",
    "m1 = 0\n",
    "b1 = 0\n",
    "h = 0.01\n",
    "\n",
    "m_gradient = 1\n",
    "b_gradient = 1\n",
    "\n",
    "def step_gradient(x, y, m_current, b_current, h):\n",
    "    m_gradient = get_gradient_at_m(x, y, m1, b1)\n",
    "    b_gradient = get_gradient_at_b(x, y, m1, b1)\n",
    "    m = m_current - (h * m_gradient)\n",
    "    b = b_current - (h * b_gradient)\n",
    "    return [m, b, m_gradient, b_gradient]\n",
    "\n",
    "step_gradient(months, revenue, m1, b1, h)"
   ]
  },
  {
   "cell_type": "code",
   "execution_count": 116,
   "metadata": {},
   "outputs": [
    {
     "data": {
      "text/plain": [
       "1"
      ]
     },
     "execution_count": 116,
     "metadata": {},
     "output_type": "execute_result"
    }
   ],
   "source": [
    "m_gradient"
   ]
  },
  {
   "cell_type": "code",
   "execution_count": 118,
   "metadata": {},
   "outputs": [
    {
     "data": {
      "text/plain": [
       "[15.99523888888889, 2.351066666666667, 178.80944444444418, 0.39333333333330245]"
      ]
     },
     "execution_count": 118,
     "metadata": {},
     "output_type": "execute_result"
    }
   ],
   "source": [
    "step_gradient(months, revenue, m1, b1, h)"
   ]
  },
  {
   "cell_type": "code",
   "execution_count": 117,
   "metadata": {},
   "outputs": [
    {
     "name": "stdout",
     "output_type": "stream",
     "text": [
      "-1778.3333333333333\n"
     ]
    }
   ],
   "source": [
    "while (abs(m_gradient) < 10):\n",
    "    iteracion = step_gradient(months, revenue, m1, b1, h)\n",
    "    m_gradient = iteracion[2]\n",
    "    b_gradient = iteracion[3]\n",
    "    m1 = iteracion[0]\n",
    "    b1 = iteracion[1]\n",
    "    print(m_gradient)"
   ]
  },
  {
   "cell_type": "markdown",
   "metadata": {},
   "source": [
    "## Parte 4"
   ]
  },
  {
   "cell_type": "markdown",
   "metadata": {},
   "source": [
    "En cada paso, sabemos cómo calcular el gradiente y movernos en esa dirección con un tamaño de paso proporcional a nuestro ritmo de aprendizaje. Ahora, queremos dar estos pasos hasta que lleguemos a la convergencia.\n",
    "\n",
    "Ahora vamos a crear una funcion llamada `gradient_descent()` que toma como parametros `x`, `y`, `learning_rate` y `num_iterations`. Por ahora retorne `[-1, -1]`"
   ]
  },
  {
   "cell_type": "code",
   "execution_count": null,
   "metadata": {},
   "outputs": [],
   "source": []
  },
  {
   "cell_type": "markdown",
   "metadata": {},
   "source": [
    "En la funcion anterior, cree las variables `b` y `m` y configurelas a cero para nuestra suposicion inicial. Ahora retorne `b` y `m` de la funcion"
   ]
  },
  {
   "cell_type": "code",
   "execution_count": null,
   "metadata": {},
   "outputs": [],
   "source": []
  },
  {
   "cell_type": "markdown",
   "metadata": {},
   "source": [
    "Copie y pegue aqui la funcion de `step_gradient()` que definio anteriormente, porque la vamos a actualizar"
   ]
  },
  {
   "cell_type": "code",
   "execution_count": null,
   "metadata": {},
   "outputs": [],
   "source": []
  },
  {
   "cell_type": "markdown",
   "metadata": {},
   "source": [
    "Actualice la funcion `step_gradient()` para que tome el parametro `learning_rate` (como ultimo parametro) y reemplace el `0.01` en los calculos por `learning_rate` y retorne `b` y `m` como un array"
   ]
  },
  {
   "cell_type": "code",
   "execution_count": null,
   "metadata": {},
   "outputs": [],
   "source": []
  },
  {
   "cell_type": "markdown",
   "metadata": {},
   "source": [
    "Volvamos otra vez a la funcion `gradient_descent()` para finalizarla. Cree una iteracion que corra el numero de veces `num_iterations`. En cada paso de la iteracion debe hacer lo siguiente:\n",
    "\n",
    "- Llamar a `step_gradient()` con `b`, `m`, `x`, `y` y `learning_rate`\n",
    "\n",
    "- Actualizar los valores de `b` y `m` con los valores que retornan de `step_gradient()`"
   ]
  },
  {
   "cell_type": "code",
   "execution_count": null,
   "metadata": {},
   "outputs": [],
   "source": []
  },
  {
   "cell_type": "markdown",
   "metadata": {},
   "source": [
    "Recuerde que le dimos las siguientes listas: \n",
    "\n",
    "```\n",
    "months = [1, 2, 3, 4, 5, 6, 7, 8, 9, 10, 11, 12]\n",
    "revenue = [52, 74, 79, 95, 115, 110, 129, 126, 147, 146, 156, 184]\n",
    "```\n",
    "\n",
    "Copielas y peguelas en la siguiente celda"
   ]
  },
  {
   "cell_type": "code",
   "execution_count": null,
   "metadata": {},
   "outputs": [],
   "source": []
  },
  {
   "cell_type": "markdown",
   "metadata": {},
   "source": [
    "Asigne a las variables `b` y `m` la funcion de `gradient_descent` con `months` y `revenue` con una tasa de aprendizaje de `0.01` y `1.000 interaciones`"
   ]
  },
  {
   "cell_type": "code",
   "execution_count": null,
   "metadata": {},
   "outputs": [],
   "source": []
  },
  {
   "cell_type": "markdown",
   "metadata": {},
   "source": [
    "Recuerde la formula de Regresion Lineal `y = mx + b` y la forma en que la creabamos por medio de un list comprenhension. Anteriormente hicimos el ejercicio pasandole un `m` y un `b` \"estatico\" ahora vamos a pasarlo de forma dinamica con los valores de `m` y `b` que nos retorno la funcion `gradient_descent()`"
   ]
  },
  {
   "cell_type": "code",
   "execution_count": null,
   "metadata": {},
   "outputs": [],
   "source": []
  },
  {
   "cell_type": "markdown",
   "metadata": {},
   "source": [
    "Recuerde tambien que teniamos una forma de graficar con Matplotlib tanto los valores de `m` y `b` asi como la linea que mejor se ajusta a esos datos. Cree el grafico correspondiente"
   ]
  },
  {
   "cell_type": "code",
   "execution_count": null,
   "metadata": {},
   "outputs": [],
   "source": []
  },
  {
   "cell_type": "code",
   "execution_count": null,
   "metadata": {},
   "outputs": [],
   "source": []
  }
 ],
 "metadata": {
  "kernelspec": {
   "display_name": "Python 3",
   "language": "python",
   "name": "python3"
  },
  "language_info": {
   "codemirror_mode": {
    "name": "ipython",
    "version": 3
   },
   "file_extension": ".py",
   "mimetype": "text/x-python",
   "name": "python",
   "nbconvert_exporter": "python",
   "pygments_lexer": "ipython3",
   "version": "3.8.5"
  }
 },
 "nbformat": 4,
 "nbformat_minor": 2
}

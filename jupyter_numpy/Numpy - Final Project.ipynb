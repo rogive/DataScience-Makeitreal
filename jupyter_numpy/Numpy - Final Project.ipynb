{
 "cells": [
  {
   "cell_type": "markdown",
   "metadata": {},
   "source": [
    "# Numpy - Final Project"
   ]
  },
  {
   "cell_type": "markdown",
   "metadata": {},
   "source": [
    "Usted es parte de un grupo de investigacion que conduce encuestas telefonicas previo a elecciones locales. Durante esta temporada de elecciones el grupo conduce una encuesta para determinar cuantas personas votarian por Cynthia Ceballos vs Justin Kerrigan a eleccion de alcalde. \n",
    "\n",
    "Ahora que las elecciones han pasado, su grupo de trabajo quiere comparar las respuestas de la encuesta con los resultados reales. \n",
    "\n",
    "Fueron tus encuestas un buen indicador? Vamos a saberlo!"
   ]
  },
  {
   "cell_type": "markdown",
   "metadata": {},
   "source": [
    "Importe numpy y matplotlib"
   ]
  },
  {
   "cell_type": "code",
   "execution_count": 1,
   "metadata": {},
   "outputs": [],
   "source": [
    "import numpy as np\n",
    "from matplotlib import pyplot as plt"
   ]
  },
  {
   "cell_type": "markdown",
   "metadata": {},
   "source": [
    "Estas son las diferentes respuestas a las encuestas"
   ]
  },
  {
   "cell_type": "code",
   "execution_count": 2,
   "metadata": {},
   "outputs": [],
   "source": [
    "survey_responses = ['Ceballos', 'Kerrigan', 'Ceballos', 'Ceballos', 'Ceballos','Kerrigan', 'Kerrigan', 'Ceballos', 'Ceballos', 'Ceballos', \n",
    "'Kerrigan', 'Kerrigan', 'Ceballos', 'Ceballos', 'Kerrigan', 'Kerrigan', 'Ceballos', 'Ceballos', 'Kerrigan', 'Kerrigan', 'Kerrigan', 'Kerrigan', 'Kerrigan', 'Kerrigan', 'Ceballos', 'Ceballos', 'Ceballos', 'Ceballos', 'Ceballos', 'Ceballos',\n",
    "'Kerrigan', 'Kerrigan', 'Ceballos', 'Ceballos', 'Ceballos', 'Kerrigan', 'Kerrigan', 'Ceballos', 'Ceballos', 'Kerrigan', 'Kerrigan', 'Ceballos', 'Ceballos', 'Kerrigan', 'Kerrigan', 'Kerrigan', 'Kerrigan', 'Kerrigan', 'Kerrigan', 'Ceballos',\n",
    "'Kerrigan', 'Kerrigan', 'Ceballos', 'Ceballos', 'Ceballos', 'Kerrigan', 'Kerrigan', 'Ceballos', 'Ceballos', 'Kerrigan', 'Kerrigan', 'Ceballos', 'Ceballos', 'Kerrigan', 'Kerrigan', 'Kerrigan', 'Kerrigan', 'Kerrigan', 'Kerrigan', 'Ceballos']"
   ]
  },
  {
   "cell_type": "markdown",
   "metadata": {},
   "source": [
    "Calcule el numero de personas que respondieron 'Ceballos' y guarde la en una variable llamada: `total_ceballos` e imprima la variable"
   ]
  },
  {
   "cell_type": "code",
   "execution_count": 3,
   "metadata": {},
   "outputs": [
    {
     "data": {
      "text/plain": [
       "33"
      ]
     },
     "execution_count": 3,
     "metadata": {},
     "output_type": "execute_result"
    }
   ],
   "source": [
    "total_ceballos = survey_responses.count('Ceballos')\n",
    "total_ceballos"
   ]
  },
  {
   "cell_type": "markdown",
   "metadata": {},
   "source": [
    "Calcule el porcentaje de personas en la encuesta que voto por ceballos y guardelo en la variable `percentage_cabellos` e imprima la variable"
   ]
  },
  {
   "cell_type": "code",
   "execution_count": 4,
   "metadata": {},
   "outputs": [
    {
     "data": {
      "text/plain": [
       "70"
      ]
     },
     "execution_count": 4,
     "metadata": {},
     "output_type": "execute_result"
    }
   ],
   "source": [
    "total_survey = len(survey_responses)\n",
    "total_survey"
   ]
  },
  {
   "cell_type": "code",
   "execution_count": 6,
   "metadata": {},
   "outputs": [
    {
     "data": {
      "text/plain": [
       "0.4714285714285714"
      ]
     },
     "execution_count": 6,
     "metadata": {},
     "output_type": "execute_result"
    }
   ],
   "source": [
    "percentage_cabellos = (total_ceballos / total_survey)\n",
    "percentage_cabellos"
   ]
  },
  {
   "cell_type": "markdown",
   "metadata": {},
   "source": [
    "En la elección real, el 54% de los 10.000 habitantes del pueblo votaron por Cynthia Ceballos. Sus supervisores están preocupados porque este es un resultado muy diferente al que predijo la encuesta. Quieren que usted determine si hay algún problema con la encuesta o si, dado el tamaño de la muestra, el resultado fue totalmente razonable.\n",
    "\n",
    "Generar una distribución binomial que tome como parámetros el número total de respuestas de la encuesta, la tasa real de éxito y el tamaño de la población de la ciudad. Luego divida la distribución por el número de respuestas de la encuesta. Guarde el cálculo en la variable `possible_surveys`."
   ]
  },
  {
   "cell_type": "code",
   "execution_count": 28,
   "metadata": {},
   "outputs": [
    {
     "data": {
      "text/plain": [
       "array([30, 34, 30, ..., 34, 29, 35])"
      ]
     },
     "execution_count": 28,
     "metadata": {},
     "output_type": "execute_result"
    }
   ],
   "source": [
    "n, p, nexp = total_survey, percentage_cabellos, 10000\n",
    "survey = np.random.binomial(n, p, size= nexp)\n",
    "survey"
   ]
  },
  {
   "cell_type": "code",
   "execution_count": 30,
   "metadata": {},
   "outputs": [
    {
     "data": {
      "text/plain": [
       "array([0.42857143, 0.48571429, 0.42857143, ..., 0.48571429, 0.41428571,\n",
       "       0.5       ])"
      ]
     },
     "execution_count": 30,
     "metadata": {},
     "output_type": "execute_result"
    }
   ],
   "source": [
    "possible_surveys = survey / total_survey\n",
    "possible_surveys"
   ]
  },
  {
   "cell_type": "markdown",
   "metadata": {},
   "source": [
    "Dibuje de histograma de `possible_answers` en un rango de 0-1 y de 20 bins"
   ]
  },
  {
   "cell_type": "code",
   "execution_count": 36,
   "metadata": {},
   "outputs": [
    {
     "data": {
      "image/png": "[encoded data removed]",
      "text/plain": [
       "<Figure size 432x288 with 1 Axes>"
      ]
     },
     "metadata": {
      "needs_background": "light"
     },
     "output_type": "display_data"
    }
   ],
   "source": [
    "plt.hist(possible_surveys, bins=20, range=(0, 1), label=('possible_answers'))\n",
    "\n",
    "plt.xlabel('Answers')\n",
    "plt.legend(loc=2)\n",
    "plt.show()"
   ]
  },
  {
   "cell_type": "markdown",
   "metadata": {},
   "source": [
    "Como vemos, el 47% de las personas encuestadas dijeron que votarían por Ceballos, pero el 54% de las personas votaron por Ceballos en la elección real.\n",
    "\n",
    "Calcule ahora el porcentaje de encuestas que podrían tener como resultado que Ceballos reciba menos del 50% de los votos y guárdelo en la variable `ceballos_loss_surveys`."
   ]
  },
  {
   "cell_type": "code",
   "execution_count": 37,
   "metadata": {},
   "outputs": [
    {
     "data": {
      "text/plain": [
       "0.6396"
      ]
     },
     "execution_count": 37,
     "metadata": {},
     "output_type": "execute_result"
    }
   ],
   "source": [
    "ceballos_loss_surveys = np.mean(possible_surveys < 0.5)\n",
    "ceballos_loss_surveys"
   ]
  },
  {
   "cell_type": "markdown",
   "metadata": {},
   "source": [
    "Con esta encuesta actual, cerca del 20% de las veces la encuesta pronostica que Kerrigan ganará, incluso si Ceballos ganara la elección real.\n",
    "\n",
    "Su compañero de trabajo señala que su encuesta sería más precisa si tuviera más encuestados.\n",
    "\n",
    "Genere otra distribución binomial, pero esta vez, vea qué pasaría si hubiera encuestado a 7.000 personas. Divida la distribución por el tamaño de la encuesta y guarde sus hallazgos en `large_survey`."
   ]
  },
  {
   "cell_type": "code",
   "execution_count": 40,
   "metadata": {},
   "outputs": [
    {
     "data": {
      "text/plain": [
       "array([0.48      , 0.47585714, 0.474     , ..., 0.48114286, 0.47242857,\n",
       "       0.46742857])"
      ]
     },
     "execution_count": 40,
     "metadata": {},
     "output_type": "execute_result"
    }
   ],
   "source": [
    "newn = n*100\n",
    "survey = np.random.binomial(newn, p, size= nexp)\n",
    "large_survey = survey / newn\n",
    "large_survey"
   ]
  },
  {
   "cell_type": "markdown",
   "metadata": {},
   "source": [
    "Trate de graficar con matplotlib ambas encuestas: `possible_surveys` y `large_survey`. Solo debe  añadir al segundo grafico un `alpha=0.5` para que quede un poco mas transparente y se puedan ver ambos resultados en un mismo grafico"
   ]
  },
  {
   "cell_type": "code",
   "execution_count": 44,
   "metadata": {},
   "outputs": [
    {
     "data": {
      "image/png": "[encoded data removed]",
      "text/plain": [
       "<Figure size 432x288 with 1 Axes>"
      ]
     },
     "metadata": {
      "needs_background": "light"
     },
     "output_type": "display_data"
    }
   ],
   "source": [
    "plt.hist(possible_surveys, bins=20, range=(0.3, 0.7), label=('possible_answers'))\n",
    "plt.hist(large_survey, bins=20, range=(0.3, 0.7), alpha=0.5, label=('large_survey'))\n",
    "\n",
    "plt.xlabel('Survey')\n",
    "plt.legend(loc=2)\n",
    "plt.show()"
   ]
  },
  {
   "cell_type": "markdown",
   "metadata": {},
   "source": [
    "Ahora, recalcule el porcentaje de encuestas que tendrían un resultado donde Ceballos pierde y guárdelo en la variable `ceballos_loss_new`, e imprima el valor en el terminal.\n",
    "¿Qué notamos en este nuevo valor?\n",
    "\n",
    "¿Qué consejo daría a sus supervisores sobre cómo predecir los resultados de las encuestas?"
   ]
  },
  {
   "cell_type": "code",
   "execution_count": 45,
   "metadata": {},
   "outputs": [
    {
     "data": {
      "text/plain": [
       "1.0"
      ]
     },
     "execution_count": 45,
     "metadata": {},
     "output_type": "execute_result"
    }
   ],
   "source": [
    "ceballos_loss_new = np.mean(large_survey < 0.5)\n",
    "ceballos_loss_new"
   ]
  },
  {
   "cell_type": "markdown",
   "metadata": {},
   "source": [
    "Esto nos muestra claramente que a un mayor numero de ejemplos menos chance de fallar?"
   ]
  },
  {
   "cell_type": "code",
   "execution_count": null,
   "metadata": {},
   "outputs": [],
   "source": []
  },
  {
   "cell_type": "code",
   "execution_count": null,
   "metadata": {},
   "outputs": [],
   "source": []
  }
 ],
 "metadata": {
  "kernelspec": {
   "display_name": "Python 3",
   "language": "python",
   "name": "python3"
  },
  "language_info": {
   "codemirror_mode": {
    "name": "ipython",
    "version": 3
   },
   "file_extension": ".py",
   "mimetype": "text/x-python",
   "name": "python",
   "nbconvert_exporter": "python",
   "pygments_lexer": "ipython3",
   "version": "3.8.5"
  }
 },
 "nbformat": 4,
 "nbformat_minor": 2
}

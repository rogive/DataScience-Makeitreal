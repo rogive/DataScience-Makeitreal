{
 "cells": [
  {
   "cell_type": "markdown",
   "metadata": {},
   "source": [
    "# Parte I -  Numpy Ejercicio Distribucion"
   ]
  },
  {
   "cell_type": "markdown",
   "metadata": {},
   "source": [
    "Importe Numpy y Matplotlib"
   ]
  },
  {
   "cell_type": "code",
   "execution_count": 1,
   "metadata": {},
   "outputs": [],
   "source": [
    "import numpy as np\n",
    "from matplotlib import pyplot as plt"
   ]
  },
  {
   "cell_type": "markdown",
   "metadata": {},
   "source": [
    "Nuestro amigo es paleontólogo. Está estudiando dos tipos de dinosaurios: el braquiosaurio y el fictionosaurio. Él nos dice eso:\n",
    "- Los braquiosaurios tienen fémures (hueso del muslo) con una longitud media de 6,7 pies y una desviación estándar de 0,7 pies.\n",
    "- Los fictionosaurios tienen fémures (hueso del muslo) con una longitud media de 7,7 pies y una desviación estándar de 0,3 pies.\n",
    "\n",
    "Nos gustaría saber cómo son estas distribuciones.\n",
    "\n",
    "Use `np.random.normal` para rellenar en `b_data`(brachiosaurus) y `f_data` (fictionosaurus) con muestras generadas aleatoriamente con la media correcta y la desviación estándar. Cada conjunto de datos debe tener 1000 muestras."
   ]
  },
  {
   "cell_type": "code",
   "execution_count": 3,
   "metadata": {},
   "outputs": [],
   "source": [
    "b_data = np.random.normal(6.7, 0.7, size=1000)\n",
    "f_data = np.random.normal(7.7, 0.3, size=1000)"
   ]
  },
  {
   "cell_type": "markdown",
   "metadata": {},
   "source": [
    "El código que le proporcionamos a continuación graficará las distribuciones por usted."
   ]
  },
  {
   "cell_type": "code",
   "execution_count": 12,
   "metadata": {},
   "outputs": [
    {
     "data": {
      "image/png": "[encoded data removed]",
      "text/plain": [
       "<Figure size 432x288 with 1 Axes>"
      ]
     },
     "metadata": {
      "needs_background": "light"
     },
     "output_type": "display_data"
    }
   ],
   "source": [
    "plt.hist(b_data, histtype='step', bins=30, range=(5, 8.5), label=('braquiosaurio'))\n",
    "plt.hist(f_data, histtype='step', bins=30, range=(5, 8.5), label=('fictionosaurio'))\n",
    "\n",
    "plt.xlabel('Longitud del Femur')\n",
    "plt.legend(loc=2)\n",
    "plt.show()"
   ]
  },
  {
   "cell_type": "markdown",
   "metadata": {},
   "source": [
    "Nuestro amigo descubrió un fémur de un dinosaurio no identificado en su última excavación. El fémur mide 6,6 pies de largo.\n",
    "\n",
    "Tu amigo está bastante seguro de que el fémur pertenece a un braquiosaurio o a un fictionosaurio. Mirando los datos graficados, determine a qué dinosaurio es más probable que pertenezca este esqueleto, y guarde su respuesta al dinosaurio variable `mystery_dino`."
   ]
  },
  {
   "cell_type": "code",
   "execution_count": 16,
   "metadata": {},
   "outputs": [
    {
     "data": {
      "text/plain": [
       "array([4.46016963, 4.55643222, 4.63045893, 4.65872536, 4.76476299,\n",
       "       4.76787371, 4.77112391, 4.92917096, 4.96614019, 4.9977804 ,\n",
       "       5.03710872, 5.05785478, 5.06719761, 5.09177657, 5.09761681,\n",
       "       5.10060257, 5.13306489, 5.149807  , 5.19530896, 5.19960162,\n",
       "       5.20428497, 5.20961771, 5.22428932, 5.22628073, 5.23193227,\n",
       "       5.24459418, 5.26589655, 5.27319106, 5.27998964, 5.29969799,\n",
       "       5.30167324, 5.31411094, 5.31628362, 5.32802116, 5.3303372 ,\n",
       "       5.33062711, 5.33188206, 5.34029177, 5.35329621, 5.36411206,\n",
       "       5.36558853, 5.37866287, 5.38300773, 5.38639655, 5.39319573,\n",
       "       5.40475524, 5.40599587, 5.42139584, 5.42611867, 5.42880316,\n",
       "       5.42880782, 5.4314101 , 5.43832518, 5.44049369, 5.45272238,\n",
       "       5.48232303, 5.48569473, 5.48570343, 5.489021  , 5.53701774,\n",
       "       5.54488871, 5.54887457, 5.55666742, 5.5572746 , 5.56321215,\n",
       "       5.56878704, 5.57216977, 5.57510917, 5.57761829, 5.59206294,\n",
       "       5.59210676, 5.59826376, 5.60766453, 5.607864  , 5.61682365,\n",
       "       5.62441789, 5.62644047, 5.64205596, 5.64231642, 5.65991121,\n",
       "       5.66099828, 5.67054206, 5.6718396 , 5.67213259, 5.67758059,\n",
       "       5.67804415, 5.68944563, 5.69101327, 5.7002386 , 5.70762984,\n",
       "       5.70894056, 5.72267842, 5.7253425 , 5.7253554 , 5.72550343,\n",
       "       5.73996924, 5.7431498 , 5.74490647, 5.74556212, 5.75154583,\n",
       "       5.76680255, 5.76785746, 5.77246977, 5.7754981 , 5.78367838,\n",
       "       5.78548034, 5.78552769, 5.78802265, 5.78849636, 5.79331865,\n",
       "       5.79644814, 5.7998781 , 5.80262827, 5.80441807, 5.80643409,\n",
       "       5.82138076, 5.82613592, 5.83379175, 5.83988318, 5.84443125,\n",
       "       5.85367303, 5.8578957 , 5.86101965, 5.86371186, 5.86541692,\n",
       "       5.86578003, 5.86772399, 5.86935689, 5.87181776, 5.88516939,\n",
       "       5.89273767, 5.8935281 , 5.89513929, 5.89906263, 5.89911511,\n",
       "       5.90167578, 5.90237378, 5.90248443, 5.90695664, 5.90715756,\n",
       "       5.91061022, 5.91217253, 5.91234691, 5.9181506 , 5.91897396,\n",
       "       5.92586018, 5.94344548, 5.94692223, 5.95598578, 5.95645855,\n",
       "       5.95823117, 5.96517703, 5.96727248, 5.97571411, 5.97628754,\n",
       "       5.9786125 , 5.98698391, 5.98994446, 5.99056882, 5.9925957 ,\n",
       "       5.99769943, 6.00072827, 6.00090771, 6.00125196, 6.0045427 ,\n",
       "       6.00634361, 6.01028611, 6.01155921, 6.0212377 , 6.02145843,\n",
       "       6.02338157, 6.0238919 , 6.02582334, 6.02642702, 6.02756567,\n",
       "       6.02948957, 6.03687198, 6.04911641, 6.04983887, 6.05672433,\n",
       "       6.05819119, 6.05985038, 6.06161186, 6.06226823, 6.0636576 ,\n",
       "       6.06372646, 6.06468347, 6.0676996 , 6.06800448, 6.07948959,\n",
       "       6.08119503, 6.08141646, 6.08142171, 6.08653734, 6.08943366,\n",
       "       6.08982873, 6.08985552, 6.09225628, 6.09630961, 6.10171242,\n",
       "       6.10450061, 6.11233345, 6.11301669, 6.11580791, 6.11628888,\n",
       "       6.11677883, 6.11954671, 6.12132427, 6.12151878, 6.12165953,\n",
       "       6.12680858, 6.1271191 , 6.12882492, 6.12925748, 6.13022532,\n",
       "       6.13492986, 6.13574217, 6.1365854 , 6.13925431, 6.14061913,\n",
       "       6.14804272, 6.15228509, 6.15233059, 6.15437669, 6.15642887,\n",
       "       6.15697563, 6.16339519, 6.16362576, 6.16394957, 6.16538498,\n",
       "       6.17058815, 6.17194851, 6.17203418, 6.18009845, 6.181891  ,\n",
       "       6.18224194, 6.18767745, 6.18962288, 6.19021418, 6.19062988,\n",
       "       6.19074139, 6.19239113, 6.19752005, 6.1987008 , 6.20078702,\n",
       "       6.20164752, 6.20288656, 6.2039572 , 6.20441514, 6.20711052,\n",
       "       6.20739183, 6.21745877, 6.22035311, 6.22610443, 6.2279095 ,\n",
       "       6.23516142, 6.23517989, 6.23668932, 6.23750701, 6.23883086,\n",
       "       6.24294688, 6.24380542, 6.24807359, 6.24870964, 6.25054828,\n",
       "       6.25109794, 6.2512518 , 6.25393116, 6.25904444, 6.26000823,\n",
       "       6.26035854, 6.26924785, 6.27189903, 6.27218319, 6.2754936 ,\n",
       "       6.27566448, 6.2760092 , 6.27706711, 6.27816586, 6.28041136,\n",
       "       6.28251044, 6.28576984, 6.28776719, 6.28904293, 6.29243131,\n",
       "       6.29296017, 6.29553099, 6.29589037, 6.2991927 , 6.29970904,\n",
       "       6.30339813, 6.30961174, 6.30965743, 6.31272465, 6.31663641,\n",
       "       6.31973321, 6.32180458, 6.32253377, 6.3263837 , 6.3342617 ,\n",
       "       6.33754312, 6.33820497, 6.34104944, 6.3411545 , 6.34403092,\n",
       "       6.34444839, 6.34956502, 6.35286069, 6.3543222 , 6.35450245,\n",
       "       6.35461396, 6.35649806, 6.35752386, 6.35790183, 6.35821215,\n",
       "       6.35863796, 6.35874852, 6.35897165, 6.36028784, 6.36225701,\n",
       "       6.36442452, 6.36582516, 6.36695588, 6.36700043, 6.36833113,\n",
       "       6.37116285, 6.37260671, 6.372759  , 6.37518708, 6.37529888,\n",
       "       6.37660466, 6.37661969, 6.37712453, 6.37739412, 6.37780959,\n",
       "       6.37885664, 6.37921079, 6.37981113, 6.38202036, 6.38378102,\n",
       "       6.39015214, 6.39094296, 6.3925467 , 6.39350395, 6.39385465,\n",
       "       6.39457178, 6.39705621, 6.39971899, 6.40030028, 6.40365399,\n",
       "       6.40428252, 6.40691448, 6.40970993, 6.41128613, 6.41131245,\n",
       "       6.41201594, 6.41597693, 6.41680418, 6.4189673 , 6.42268729,\n",
       "       6.42302492, 6.42660074, 6.42836352, 6.43237063, 6.43351174,\n",
       "       6.43757512, 6.43795966, 6.44262478, 6.44263331, 6.44471698,\n",
       "       6.44819578, 6.44865477, 6.44876489, 6.45141773, 6.45312406,\n",
       "       6.45315133, 6.45325022, 6.45518632, 6.45761967, 6.4584509 ,\n",
       "       6.45874212, 6.4630985 , 6.46414391, 6.46414791, 6.46642927,\n",
       "       6.46661924, 6.4682977 , 6.47172244, 6.4730592 , 6.47386999,\n",
       "       6.47646033, 6.47744945, 6.47790973, 6.47944977, 6.48075335,\n",
       "       6.48155179, 6.48341563, 6.48572661, 6.48727831, 6.48971374,\n",
       "       6.48998649, 6.49195758, 6.49343922, 6.49393772, 6.49577435,\n",
       "       6.49919349, 6.50067332, 6.50361061, 6.50395698, 6.5059741 ,\n",
       "       6.51097942, 6.51507472, 6.51535279, 6.51617557, 6.5165876 ,\n",
       "       6.5210281 , 6.52296322, 6.52503075, 6.52648417, 6.52756909,\n",
       "       6.52894676, 6.529031  , 6.5317063 , 6.53387986, 6.53444407,\n",
       "       6.53587896, 6.53665919, 6.53673653, 6.5389704 , 6.5391054 ,\n",
       "       6.5420655 , 6.54278699, 6.54415428, 6.54907945, 6.55002083,\n",
       "       6.55384817, 6.55690211, 6.55730899, 6.55831755, 6.56136916,\n",
       "       6.56244273, 6.56545627, 6.56607442, 6.56811973, 6.56948639,\n",
       "       6.57102892, 6.57324866, 6.57583003, 6.57690795, 6.57818733,\n",
       "       6.57857138, 6.57873649, 6.57919813, 6.57958567, 6.58003897,\n",
       "       6.58036991, 6.58103178, 6.58354045, 6.58860014, 6.5890756 ,\n",
       "       6.59092139, 6.59112473, 6.59120816, 6.5926159 , 6.59908109,\n",
       "       6.59925114, 6.60186163, 6.60254878, 6.60348454, 6.61018314,\n",
       "       6.61302359, 6.61613334, 6.61670557, 6.61690673, 6.61934475,\n",
       "       6.61974296, 6.62075837, 6.62172333, 6.62204253, 6.62756765,\n",
       "       6.62769078, 6.63222876, 6.63407471, 6.63561809, 6.63576774,\n",
       "       6.63585978, 6.64023055, 6.64211954, 6.64228459, 6.64355479,\n",
       "       6.64395303, 6.64421731, 6.64514043, 6.64691546, 6.64708749,\n",
       "       6.64802212, 6.64904228, 6.65002353, 6.6549629 , 6.65661364,\n",
       "       6.65853961, 6.66081733, 6.66778308, 6.66887153, 6.6707491 ,\n",
       "       6.67104401, 6.67191348, 6.67809505, 6.68025592, 6.68079377,\n",
       "       6.68084104, 6.68173585, 6.68350394, 6.68458342, 6.68918827,\n",
       "       6.69164604, 6.69175142, 6.69289713, 6.6985375 , 6.70047467,\n",
       "       6.7009864 , 6.7016354 , 6.7033844 , 6.70448957, 6.70579342,\n",
       "       6.70854246, 6.71496585, 6.71637158, 6.7165942 , 6.71763524,\n",
       "       6.72252173, 6.72774091, 6.72776668, 6.72792669, 6.72833055,\n",
       "       6.72952001, 6.73380556, 6.73617339, 6.73722122, 6.7386658 ,\n",
       "       6.73870632, 6.73979645, 6.73992146, 6.74058952, 6.74088388,\n",
       "       6.74123426, 6.7426518 , 6.7442419 , 6.74896791, 6.75188769,\n",
       "       6.75232291, 6.75467657, 6.75760169, 6.75871774, 6.76015678,\n",
       "       6.76204127, 6.76303613, 6.76348348, 6.76635025, 6.76699453,\n",
       "       6.76808188, 6.76847562, 6.76853196, 6.76908407, 6.76941808,\n",
       "       6.7722277 , 6.77498424, 6.77631189, 6.77834652, 6.78161372,\n",
       "       6.78482616, 6.78693761, 6.78763159, 6.78895193, 6.79057401,\n",
       "       6.7915884 , 6.79713418, 6.79953707, 6.80063546, 6.80113059,\n",
       "       6.80523212, 6.80598122, 6.80623009, 6.80776881, 6.80805018,\n",
       "       6.80932759, 6.80980603, 6.81003499, 6.81241323, 6.8126572 ,\n",
       "       6.81352707, 6.81411505, 6.81644928, 6.81929899, 6.82022721,\n",
       "       6.82518192, 6.82527202, 6.82799774, 6.83274564, 6.83627215,\n",
       "       6.83716392, 6.83833809, 6.84009657, 6.84036151, 6.84137502,\n",
       "       6.84161791, 6.84727014, 6.84787271, 6.84971216, 6.85030252,\n",
       "       6.85211908, 6.85460805, 6.8601961 , 6.86149871, 6.87244017,\n",
       "       6.87256028, 6.87513866, 6.87841482, 6.88134065, 6.88390233,\n",
       "       6.88503816, 6.88894247, 6.88941899, 6.89729836, 6.90731982,\n",
       "       6.90788652, 6.90861059, 6.90874994, 6.90955772, 6.91014298,\n",
       "       6.91262671, 6.91268349, 6.91666148, 6.91770771, 6.92003441,\n",
       "       6.9202208 , 6.92313412, 6.9244781 , 6.9249084 , 6.92678442,\n",
       "       6.92812207, 6.93025934, 6.93817069, 6.9414062 , 6.94257346,\n",
       "       6.94269727, 6.95102591, 6.95530298, 6.95851796, 6.96265891,\n",
       "       6.96552777, 6.96643969, 6.96764536, 6.97081186, 6.98098119,\n",
       "       6.98223933, 6.98261804, 6.98494531, 6.98842825, 6.9921733 ,\n",
       "       6.99867776, 7.00059112, 7.00069987, 7.00119163, 7.00157544,\n",
       "       7.00159521, 7.00187647, 7.00479339, 7.00513188, 7.00588949,\n",
       "       7.00624548, 7.01761511, 7.01764229, 7.01915374, 7.02325295,\n",
       "       7.03338442, 7.03401183, 7.03527214, 7.03602172, 7.0364815 ,\n",
       "       7.03811773, 7.04302916, 7.04440616, 7.0454    , 7.0468481 ,\n",
       "       7.04716281, 7.04809579, 7.05002158, 7.05089851, 7.05269825,\n",
       "       7.05523303, 7.05663185, 7.05779624, 7.06048234, 7.06062069,\n",
       "       7.06100381, 7.0616313 , 7.06180399, 7.06202802, 7.06263979,\n",
       "       7.06621811, 7.06706556, 7.06818818, 7.06908459, 7.07056901,\n",
       "       7.07098345, 7.07165231, 7.07341116, 7.07404172, 7.07484211,\n",
       "       7.07922206, 7.08260202, 7.08379812, 7.08592276, 7.08692601,\n",
       "       7.0880841 , 7.08835354, 7.08886388, 7.09373018, 7.09876467,\n",
       "       7.09938289, 7.10007824, 7.1001433 , 7.10151291, 7.10305808,\n",
       "       7.10703953, 7.10869199, 7.11249762, 7.11759194, 7.1176411 ,\n",
       "       7.1182779 , 7.1199163 , 7.1214949 , 7.12152456, 7.12220644,\n",
       "       7.12617839, 7.12744236, 7.12763221, 7.12782767, 7.12862529,\n",
       "       7.13206185, 7.13339779, 7.13546723, 7.13570194, 7.13572915,\n",
       "       7.13716612, 7.13719994, 7.13720139, 7.14042727, 7.14313125,\n",
       "       7.14663502, 7.14748492, 7.152554  , 7.15740005, 7.15810005,\n",
       "       7.15916227, 7.16066699, 7.16603787, 7.16698695, 7.16705419,\n",
       "       7.17215313, 7.17307072, 7.17700747, 7.17744368, 7.17752828,\n",
       "       7.17837956, 7.17919075, 7.18259111, 7.18543117, 7.18580732,\n",
       "       7.19316342, 7.1932164 , 7.19494842, 7.1977933 , 7.19943089,\n",
       "       7.20170698, 7.2044952 , 7.20661202, 7.20808888, 7.20895893,\n",
       "       7.21020756, 7.21523823, 7.21622501, 7.21860516, 7.21943427,\n",
       "       7.21982396, 7.21990671, 7.22190475, 7.22449645, 7.22666112,\n",
       "       7.23886458, 7.24125001, 7.24176641, 7.24301315, 7.24669077,\n",
       "       7.25045737, 7.25075055, 7.25089563, 7.2560517 , 7.25947429,\n",
       "       7.25949886, 7.26315686, 7.26361023, 7.26362749, 7.26562515,\n",
       "       7.26673626, 7.26691035, 7.26730305, 7.26936305, 7.27236584,\n",
       "       7.27333666, 7.27430319, 7.2759007 , 7.27769619, 7.28294776,\n",
       "       7.28334782, 7.29741667, 7.30192199, 7.30830056, 7.31144107,\n",
       "       7.31227584, 7.31308331, 7.31412261, 7.31627283, 7.31872738,\n",
       "       7.32088181, 7.32208682, 7.32453627, 7.32498415, 7.33146969,\n",
       "       7.3340772 , 7.33707635, 7.33861496, 7.33867295, 7.34401019,\n",
       "       7.34707614, 7.35256633, 7.35289317, 7.3533697 , 7.35891914,\n",
       "       7.35898675, 7.36603595, 7.37039677, 7.37238867, 7.3735536 ,\n",
       "       7.37611886, 7.37708615, 7.38055667, 7.38600907, 7.38825724,\n",
       "       7.38837052, 7.38922881, 7.38937679, 7.39180482, 7.39206771,\n",
       "       7.39243226, 7.39557884, 7.39822465, 7.40253821, 7.40500211,\n",
       "       7.4082347 , 7.41337846, 7.41517062, 7.41947908, 7.41981673,\n",
       "       7.42713539, 7.43044119, 7.43533912, 7.44161426, 7.44495487,\n",
       "       7.45366273, 7.45869811, 7.46230133, 7.46232692, 7.46465652,\n",
       "       7.47414222, 7.47585139, 7.49266924, 7.50472773, 7.50832993,\n",
       "       7.5172784 , 7.52069727, 7.5232923 , 7.5295456 , 7.53641469,\n",
       "       7.53716932, 7.54562019, 7.54600741, 7.54768694, 7.54848253,\n",
       "       7.55274694, 7.5537696 , 7.55667738, 7.5609291 , 7.57119991,\n",
       "       7.57241339, 7.5744406 , 7.57489867, 7.57723425, 7.57788339,\n",
       "       7.57799164, 7.58847101, 7.59285355, 7.59419785, 7.59479685,\n",
       "       7.59666474, 7.60242996, 7.6072364 , 7.61296014, 7.61542407,\n",
       "       7.6257682 , 7.63562274, 7.64442058, 7.64779137, 7.65172877,\n",
       "       7.65260415, 7.65510192, 7.65578929, 7.65723669, 7.65817575,\n",
       "       7.66189072, 7.67100049, 7.67139956, 7.67425039, 7.67460246,\n",
       "       7.67824207, 7.67905858, 7.68282975, 7.68298163, 7.70217229,\n",
       "       7.70229296, 7.70253185, 7.70501278, 7.70767568, 7.71717932,\n",
       "       7.7217623 , 7.73733629, 7.73893131, 7.74771335, 7.75795406,\n",
       "       7.75857402, 7.76064117, 7.76187289, 7.77723948, 7.77827329,\n",
       "       7.79220385, 7.79376803, 7.79501047, 7.79645898, 7.7992804 ,\n",
       "       7.80260199, 7.80596535, 7.80782553, 7.82728994, 7.83139433,\n",
       "       7.83332172, 7.83387898, 7.83810681, 7.84746342, 7.84777405,\n",
       "       7.87740085, 7.87801591, 7.88647399, 7.8960401 , 7.93179024,\n",
       "       7.93366766, 7.93804071, 7.96612637, 7.97375675, 7.98341871,\n",
       "       8.0373728 , 8.07660711, 8.08824207, 8.10262867, 8.10996672,\n",
       "       8.11336162, 8.13377944, 8.16136502, 8.17556314, 8.17904842,\n",
       "       8.18801492, 8.19406886, 8.29621818, 8.33187133, 8.34256316,\n",
       "       8.35541528, 8.36440275, 8.37185959, 8.37969111, 8.38057741,\n",
       "       8.38665389, 8.4041982 , 8.42937233, 8.43243217, 8.44135836,\n",
       "       8.48674375, 8.59459963, 8.67083962, 8.84072914, 9.1323296 ])"
      ]
     },
     "execution_count": 16,
     "metadata": {},
     "output_type": "execute_result"
    }
   ],
   "source": [
    "unique_elements, count = np.unique(b_data, return_counts=True)"
   ]
  },
  {
   "cell_type": "code",
   "execution_count": 7,
   "metadata": {},
   "outputs": [
    {
     "data": {
      "text/plain": [
       "'braquiosaurio'"
      ]
     },
     "execution_count": 7,
     "metadata": {},
     "output_type": "execute_result"
    }
   ],
   "source": [
    "mistery_dino = \"braquiosaurio\"\n",
    "mistery_dino"
   ]
  },
  {
   "cell_type": "markdown",
   "metadata": {},
   "source": [
    "Nuestro amigo descubrió otro fémur. Este fémur tiene 7.5 pies de largo. Obviamente, 7.5 pies está más cerca de la media para un fictionosaurio (7.7 pies), que de la media para un braquiosaurio (6.5 pies).\n",
    "\n",
    "¿Podemos estar absolutamente seguros de que el fémur proviene de un fictionosaurio? Guarde su respuesta (ya sea Verdadero o Falso) para responder."
   ]
  },
  {
   "cell_type": "code",
   "execution_count": null,
   "metadata": {},
   "outputs": [],
   "source": [
    "respuesta=true"
   ]
  },
  {
   "cell_type": "markdown",
   "metadata": {},
   "source": [
    "¿Cómo le ayudan los histogramas a explicar su respuesta?"
   ]
  },
  {
   "cell_type": "code",
   "execution_count": 8,
   "metadata": {},
   "outputs": [],
   "source": [
    "# Permite visualizar la distribucion y la densidad de los datos. Si el dato de inquietud se ubica en la zona de mayor\n",
    "# densidad de alguna de los dos datasets, es muy probable que le pertenezca a ese dataset."
   ]
  },
  {
   "cell_type": "markdown",
   "metadata": {},
   "source": [
    "# Parte II -  Desviacion Stadard y Distribucion Normal"
   ]
  },
  {
   "cell_type": "markdown",
   "metadata": {},
   "source": [
    "El puntaje promedio en los exámenes SAT es de 1000 y la desviación estándar es de 100.\n",
    "\n",
    "Calcule la cantidad que sería una desviación estándar por encima de la media, y guárdela en la variable `one_above`."
   ]
  },
  {
   "cell_type": "code",
   "execution_count": 21,
   "metadata": {},
   "outputs": [],
   "source": [
    "sat_media = 1000\n",
    "sat_std = 100\n",
    "one_above = sat_media + sat_std"
   ]
  },
  {
   "cell_type": "markdown",
   "metadata": {},
   "source": [
    "Calcule la cantidad que sería una desviación estándar por debajo de la media y guárdela en la variable `one_below`."
   ]
  },
  {
   "cell_type": "code",
   "execution_count": 22,
   "metadata": {},
   "outputs": [],
   "source": [
    "one_below = sat_media - sat_std"
   ]
  },
  {
   "cell_type": "markdown",
   "metadata": {},
   "source": [
    "Imprima los valores de ambas variables"
   ]
  },
  {
   "cell_type": "code",
   "execution_count": 24,
   "metadata": {},
   "outputs": [
    {
     "data": {
      "text/plain": [
       "1100"
      ]
     },
     "execution_count": 24,
     "metadata": {},
     "output_type": "execute_result"
    }
   ],
   "source": [
    "one_above"
   ]
  },
  {
   "cell_type": "code",
   "execution_count": 25,
   "metadata": {},
   "outputs": [
    {
     "data": {
      "text/plain": [
       "900"
      ]
     },
     "execution_count": 25,
     "metadata": {},
     "output_type": "execute_result"
    }
   ],
   "source": [
    "one_below"
   ]
  },
  {
   "cell_type": "code",
   "execution_count": 28,
   "metadata": {},
   "outputs": [
    {
     "name": "stdout",
     "output_type": "stream",
     "text": [
      "1100 900\n"
     ]
    }
   ],
   "source": [
    "print(\"{} {}\".format(one_above, one_below))"
   ]
  },
  {
   "cell_type": "markdown",
   "metadata": {},
   "source": [
    "2000 estudiantes tomaron el examen. ¿Cuántos esperarían tener puntajes dentro del rango de `one_above` y `one_below`?\n",
    "\n",
    "Guarde su respuesta a la variable `one_std` e imprímala en el terminal."
   ]
  },
  {
   "cell_type": "code",
   "execution_count": 27,
   "metadata": {},
   "outputs": [
    {
     "data": {
      "text/plain": [
       "1364.0"
      ]
     },
     "execution_count": 27,
     "metadata": {},
     "output_type": "execute_result"
    }
   ],
   "source": [
    "one_std = 2000*0.682\n",
    "one_std"
   ]
  },
  {
   "cell_type": "markdown",
   "metadata": {},
   "source": [
    "# Parte III -  Distribucion binomial y probabilidad\n"
   ]
  },
  {
   "cell_type": "markdown",
   "metadata": {},
   "source": [
    "Enviamos 500 correos electrónicos, con una probabilidad estimada de que 25 personas abrieran el correo electrónico. Y hubo 10.000 trials (personas que probaron el producto). Cree el random binomial"
   ]
  },
  {
   "cell_type": "code",
   "execution_count": 86,
   "metadata": {
    "scrolled": true
   },
   "outputs": [
    {
     "data": {
      "image/png": "[encoded data removed]",
      "text/plain": [
       "<Figure size 432x288 with 1 Axes>"
      ]
     },
     "metadata": {
      "needs_background": "light"
     },
     "output_type": "display_data"
    }
   ],
   "source": [
    "n, p, nexp = 500 , 25/500, 10000\n",
    "binomial_data = np.random.binomial(n, p, size= nexp)\n",
    "plt.hist(binomial_data)\n",
    "plt.show()"
   ]
  },
  {
   "cell_type": "code",
   "execution_count": 75,
   "metadata": {},
   "outputs": [
    {
     "data": {
      "text/plain": [
       "10000"
      ]
     },
     "execution_count": 75,
     "metadata": {},
     "output_type": "execute_result"
    }
   ],
   "source": [
    "len(binomial_data)"
   ]
  },
  {
   "cell_type": "code",
   "execution_count": 76,
   "metadata": {},
   "outputs": [
    {
     "data": {
      "text/plain": [
       "array([27, 15, 30, ..., 21, 24, 31])"
      ]
     },
     "execution_count": 76,
     "metadata": {},
     "output_type": "execute_result"
    }
   ],
   "source": [
    "binomial_data"
   ]
  },
  {
   "cell_type": "markdown",
   "metadata": {},
   "source": [
    "¿Cuál es la probabilidad de que nadie abra el correo electrónico? Guardar los resultados en los variable `no_emails`."
   ]
  },
  {
   "cell_type": "code",
   "execution_count": 64,
   "metadata": {},
   "outputs": [],
   "source": [
    "no_emails = np.mean(binomial_data == 0)"
   ]
  },
  {
   "cell_type": "markdown",
   "metadata": {},
   "source": [
    "Recientemente contrató a un nuevo socio de marketing que quiere probar dos correos electrónicos (hacer un A/B testing) para ver si la gente responde mejor. \n",
    "\n",
    "¿Cuál es la probabilidad de que el 8% o más de las personas abran el correo electrónico? Guardar los resultados en el variable `b_test_emails`."
   ]
  },
  {
   "cell_type": "code",
   "execution_count": 84,
   "metadata": {},
   "outputs": [
    {
     "data": {
      "text/plain": [
       "40.0"
      ]
     },
     "execution_count": 84,
     "metadata": {},
     "output_type": "execute_result"
    }
   ],
   "source": [
    "percentage = 8/100\n",
    "people = n*percentage\n",
    "people"
   ]
  },
  {
   "cell_type": "code",
   "execution_count": 81,
   "metadata": {},
   "outputs": [],
   "source": [
    "b_test_emails = np.mean(binomial_data >= people)"
   ]
  },
  {
   "cell_type": "markdown",
   "metadata": {},
   "source": [
    "Imprimir las variables `no_emails` y `b_test_emails`"
   ]
  },
  {
   "cell_type": "code",
   "execution_count": 82,
   "metadata": {},
   "outputs": [
    {
     "data": {
      "text/plain": [
       "0.0"
      ]
     },
     "execution_count": 82,
     "metadata": {},
     "output_type": "execute_result"
    }
   ],
   "source": [
    "no_emails"
   ]
  },
  {
   "cell_type": "code",
   "execution_count": 83,
   "metadata": {},
   "outputs": [
    {
     "data": {
      "text/plain": [
       "0.0026"
      ]
     },
     "execution_count": 83,
     "metadata": {},
     "output_type": "execute_result"
    }
   ],
   "source": [
    "b_test_emails"
   ]
  }
 ],
 "metadata": {
  "kernelspec": {
   "display_name": "Python 3",
   "language": "python",
   "name": "python3"
  },
  "language_info": {
   "codemirror_mode": {
    "name": "ipython",
    "version": 3
   },
   "file_extension": ".py",
   "mimetype": "text/x-python",
   "name": "python",
   "nbconvert_exporter": "python",
   "pygments_lexer": "ipython3",
   "version": "3.8.5"
  }
 },
 "nbformat": 4,
 "nbformat_minor": 2
}

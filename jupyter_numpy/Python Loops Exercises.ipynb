{
 "cells": [
  {
   "cell_type": "markdown",
   "metadata": {},
   "source": [
    "# Python Loops Exercises\n",
    "Used trabaja como Data Analyst un salon para cuidado femenino. Usted va a calcular importantes metricas del negocio. Empezemos!"
   ]
  },
  {
   "cell_type": "markdown",
   "metadata": {},
   "source": [
    "## Initial data\n",
    "Usted fue proveido con las siguientes listas\n",
    "- `hairstyles` los nombres de cortes en el negocio\n",
    "- `prices` el precio de cada corte de la lista `hairstyles`\n",
    "- `last_week` el numero de cada corte en `hairstyles` que fue comprado la semana anterior"
   ]
  },
  {
   "cell_type": "markdown",
   "metadata": {},
   "source": [
    "## Data"
   ]
  },
  {
   "cell_type": "code",
   "execution_count": 9,
   "metadata": {},
   "outputs": [],
   "source": [
    "hairstyles = [\"bouffant\", \"pixie\", \"dreadlocks\", \"crew\", \"bowl\", \"bob\", \"mohawk\", \"flattop\"]\n",
    "prices = [30, 25, 40, 20, 20, 35, 50, 35]\n",
    "last_week = [2, 3, 5, 8, 4, 4, 6, 2]"
   ]
  },
  {
   "cell_type": "markdown",
   "metadata": {},
   "source": [
    "## Precios y Rebajas"
   ]
  },
  {
   "cell_type": "markdown",
   "metadata": {},
   "source": [
    "- Cree una variable llamada `total_price` e iniciela en `0`"
   ]
  },
  {
   "cell_type": "code",
   "execution_count": 10,
   "metadata": {},
   "outputs": [],
   "source": [
    "## cree aqui el codigo\n",
    "total_price = 0"
   ]
  },
  {
   "cell_type": "markdown",
   "metadata": {},
   "source": [
    "- Itera sobre la lista `prices` y añade cada precio a la variable `total_price`"
   ]
  },
  {
   "cell_type": "code",
   "execution_count": 11,
   "metadata": {},
   "outputs": [
    {
     "name": "stdout",
     "output_type": "stream",
     "text": [
      "255\n"
     ]
    }
   ],
   "source": [
    "## cree aqui el codigo\n",
    "for price in prices :\n",
    "  total_price += price\n",
    "print (total_price)"
   ]
  },
  {
   "cell_type": "markdown",
   "metadata": {},
   "source": [
    "- Crea una variable llamada `average_price` que es `total_price` dividido por el numero de precios. Recuerde que puede obtener el largo con la funcion `len()`"
   ]
  },
  {
   "cell_type": "code",
   "execution_count": 14,
   "metadata": {},
   "outputs": [],
   "source": [
    "## cree aqui el codigo\n",
    "average_price = total_price / (len(prices))"
   ]
  },
  {
   "cell_type": "markdown",
   "metadata": {},
   "source": [
    "- Imprima el valor de `average_price` para que el resultado luzca como esto: `Average Haircut Price: <average_price>`"
   ]
  },
  {
   "cell_type": "code",
   "execution_count": 15,
   "metadata": {},
   "outputs": [
    {
     "name": "stdout",
     "output_type": "stream",
     "text": [
      "Average Haircut Price: 31.875\n"
     ]
    }
   ],
   "source": [
    "## cree aqui el codigo\n",
    "print (\"Average Haircut Price: \" + str(average_price))"
   ]
  },
  {
   "cell_type": "markdown",
   "metadata": {},
   "source": [
    "- La dueña quiere bajar todos los precios en 5 usd. Use un list comprenhension para hacer una lista llamada `new_prices` el cual tiene cada elemento de `prices` menos `5`"
   ]
  },
  {
   "cell_type": "code",
   "execution_count": 16,
   "metadata": {},
   "outputs": [],
   "source": [
    "## cree aqui el codigo\n",
    "new_prices = [price-5 for price in prices]"
   ]
  },
  {
   "cell_type": "markdown",
   "metadata": {},
   "source": [
    "- Imprima `new_prices`"
   ]
  },
  {
   "cell_type": "code",
   "execution_count": 17,
   "metadata": {},
   "outputs": [
    {
     "name": "stdout",
     "output_type": "stream",
     "text": [
      "[25, 20, 35, 15, 15, 30, 45, 30]\n"
     ]
    }
   ],
   "source": [
    "## cree aqui el codigo\n",
    "print (new_prices)"
   ]
  },
  {
   "cell_type": "markdown",
   "metadata": {},
   "source": [
    "## Ingresos"
   ]
  },
  {
   "cell_type": "markdown",
   "metadata": {},
   "source": [
    "- La dueña del negocio realmente quiere ser rentable, y quiere saber cuanto vendio la semana pasada. Cree una nueva variable llamada `total_revenue` e iniciela en `0`"
   ]
  },
  {
   "cell_type": "code",
   "execution_count": 18,
   "metadata": {},
   "outputs": [],
   "source": [
    "total_revenue = 0"
   ]
  },
  {
   "cell_type": "markdown",
   "metadata": {},
   "source": [
    "- Use un ciclo `for` para crear una variable `i` que va de `0` a `len(hairstyles)`. Ayuda: puedes usar `range()` para hacer esto. "
   ]
  },
  {
   "cell_type": "markdown",
   "metadata": {},
   "source": [
    "- Añade el producto de `prices[i]` (el precio de cada `haircut` en la posicion `i`) y `last_week[i]` (el numero de personas que tuvo un corte en la posicion `i`) a `total_revenue` en cada paso. "
   ]
  },
  {
   "cell_type": "code",
   "execution_count": 19,
   "metadata": {},
   "outputs": [],
   "source": [
    "for i in range(len(hairstyles)) :\n",
    "  total_revenue += prices[i] * last_week[i]"
   ]
  },
  {
   "cell_type": "markdown",
   "metadata": {},
   "source": [
    "- Despues del ciclo imprime `total_revenue` de forma tal que se vea de la siguiente manera. `Total Revenue: <total_revenue>`"
   ]
  },
  {
   "cell_type": "code",
   "execution_count": 20,
   "metadata": {},
   "outputs": [
    {
     "name": "stdout",
     "output_type": "stream",
     "text": [
      "Total Revenue: 31.875\n"
     ]
    }
   ],
   "source": [
    "print (\"Total Revenue: \" + str(average_price))"
   ]
  },
  {
   "cell_type": "markdown",
   "metadata": {},
   "source": [
    "- Encuentra el promedio diario de ingresos dividiendo `total_revenue` por `7`. Llama este numero `average_daily_revenue` "
   ]
  },
  {
   "cell_type": "code",
   "execution_count": 21,
   "metadata": {},
   "outputs": [
    {
     "name": "stdout",
     "output_type": "stream",
     "text": [
      "Promedio Diario de Ingresos: 155.0\n"
     ]
    }
   ],
   "source": [
    "average_daily_revenue = total_revenue / 7\n",
    "print (\"Promedio Diario de Ingresos: \" + str(average_daily_revenue))"
   ]
  }
 ],
 "metadata": {
  "kernelspec": {
   "display_name": "Python 3",
   "language": "python",
   "name": "python3"
  },
  "language_info": {
   "codemirror_mode": {
    "name": "ipython",
    "version": 3
   },
   "file_extension": ".py",
   "mimetype": "text/x-python",
   "name": "python",
   "nbconvert_exporter": "python",
   "pygments_lexer": "ipython3",
   "version": "3.8.5"
  }
 },
 "nbformat": 4,
 "nbformat_minor": 2
}
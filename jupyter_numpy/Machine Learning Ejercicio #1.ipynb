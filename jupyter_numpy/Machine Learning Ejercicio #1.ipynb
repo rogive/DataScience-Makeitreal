{
 "cells": [
  {
   "cell_type": "markdown",
   "metadata": {},
   "source": [
    "# Machine Learning Ejercicio #1"
   ]
  },
  {
   "cell_type": "markdown",
   "metadata": {},
   "source": [
    "Tenemos tres puntos, `(1, 5), (2, 1), y (3, 3)`. Estamos tratando de encontrar una línea que produzca las pérdidas más bajas.\n",
    "\n",
    "Le hemos proporcionado la lista de los valores `x`, y los valores de `y`, para estos puntos.\n",
    "\n",
    "```\n",
    "x = [1, 2, 3]\n",
    "y = [5, 1, 3]\n",
    "\n",
    "#y = x\n",
    "m1 = 1\n",
    "b1 = 0\n",
    "```\n",
    "\n",
    "1- Hallar los valores de `y` que la línea con `m1` y `b1` predeciría para los valores de `x` dados. Guárdelos en una lista llamada `y_predicted1`."
   ]
  },
  {
   "cell_type": "code",
   "execution_count": 27,
   "metadata": {},
   "outputs": [
    {
     "data": {
      "text/plain": [
       "[1, 2, 3]"
      ]
     },
     "execution_count": 27,
     "metadata": {},
     "output_type": "execute_result"
    }
   ],
   "source": [
    "x = [1, 2, 3]\n",
    "y = [5, 1, 3]\n",
    "\n",
    "#y = x\n",
    "m1 = 1\n",
    "b1 = 0\n",
    "\n",
    "## excriba su respuesta aqui:\n",
    "y_predicted1 = [ m1*elem + b1 for elem in x ]\n",
    "y_predicted1"
   ]
  },
  {
   "cell_type": "markdown",
   "metadata": {},
   "source": [
    "2- Hallar los valores de `y` que la línea `m2` y `b2` predeciría para los valores de `x` dados. Guárdelos en una lista llamada `y_predicted2`."
   ]
  },
  {
   "cell_type": "code",
   "execution_count": 35,
   "metadata": {},
   "outputs": [
    {
     "data": {
      "text/plain": [
       "[1.5, 2.0, 2.5]"
      ]
     },
     "execution_count": 35,
     "metadata": {},
     "output_type": "execute_result"
    }
   ],
   "source": [
    "#y = 0.5x + 1\n",
    "m2 = 0.5\n",
    "b2 = 1\n",
    "\n",
    "## excriba su respuesta aqui:\n",
    "y_predicted2 = [ m2*elem + b2 for elem in x ]\n",
    "y_predicted2"
   ]
  },
  {
   "cell_type": "markdown",
   "metadata": {},
   "source": [
    "3. Crear una variable llamada `total_loss1` y ponerla a cero. Luego, encuentre la suma de la distancia al cuadrado entre los valores actuales de `y` y los valores de `y_predicted1`, haciendo un bucle a través de la lista:\n",
    "\n",
    "-- Calculando de la diferencia entre `y` e `y_predicted1`\n",
    "\n",
    "-- Elevar al cuadrado la diferencia\n",
    "\n",
    "-- Sumarlo a `total_loss1``"
   ]
  },
  {
   "cell_type": "code",
   "execution_count": 41,
   "metadata": {},
   "outputs": [
    {
     "data": {
      "text/plain": [
       "[16, 1, 0]"
      ]
     },
     "execution_count": 41,
     "metadata": {},
     "output_type": "execute_result"
    }
   ],
   "source": [
    "square_error_1 = [ (yref - ypre) ** 2 for yref, ypre in zip(y, y_predicted1)]\n",
    "square_error_1"
   ]
  },
  {
   "cell_type": "code",
   "execution_count": 48,
   "metadata": {},
   "outputs": [
    {
     "data": {
      "text/plain": [
       "17"
      ]
     },
     "execution_count": 48,
     "metadata": {},
     "output_type": "execute_result"
    }
   ],
   "source": [
    "total_loss1 = 0\n",
    "for error_1 in square_error_1:\n",
    "    total_loss1 += error_1\n",
    "total_loss1"
   ]
  },
  {
   "cell_type": "markdown",
   "metadata": {},
   "source": [
    "4. Crear una variable llamada `total_loss2` y ponerla a cero. Hallar la suma de la distancia al cuadrado entre los valores actuales de `y` y los valores de `y_predicted2` haciendo un bucle a través de la lista:\n",
    "\n",
    "-- Calculando de la diferencia entre `y` e `y_predicted2`\n",
    "\n",
    "-- Elevar al cuadrado la diferencia\n",
    "\n",
    "-- Summarlo a `total_loss2`"
   ]
  },
  {
   "cell_type": "code",
   "execution_count": 56,
   "metadata": {},
   "outputs": [
    {
     "data": {
      "text/plain": [
       "[12.25, 1.0, 0.25]"
      ]
     },
     "execution_count": 56,
     "metadata": {},
     "output_type": "execute_result"
    }
   ],
   "source": [
    "square_error_2 = [ (yref - ypre) ** 2 for yref, ypre in zip(y, y_predicted2)]\n",
    "square_error_2"
   ]
  },
  {
   "cell_type": "code",
   "execution_count": 58,
   "metadata": {},
   "outputs": [
    {
     "data": {
      "text/plain": [
       "13.5"
      ]
     },
     "execution_count": 58,
     "metadata": {},
     "output_type": "execute_result"
    }
   ],
   "source": [
    "total_loss2 = 0\n",
    "for error_2 in square_error_2:\n",
    "    total_loss2 += error_2\n",
    "total_loss2"
   ]
  },
  {
   "cell_type": "markdown",
   "metadata": {},
   "source": [
    "5. Imprimir `total_loss1` y `total_loss2`. De estas dos líneas, ¿cual usarías para modelar los puntos?"
   ]
  },
  {
   "cell_type": "code",
   "execution_count": 59,
   "metadata": {},
   "outputs": [
    {
     "data": {
      "text/plain": [
       "17"
      ]
     },
     "execution_count": 59,
     "metadata": {},
     "output_type": "execute_result"
    }
   ],
   "source": [
    "total_loss1"
   ]
  },
  {
   "cell_type": "code",
   "execution_count": 60,
   "metadata": {},
   "outputs": [
    {
     "data": {
      "text/plain": [
       "13.5"
      ]
     },
     "execution_count": 60,
     "metadata": {},
     "output_type": "execute_result"
    }
   ],
   "source": [
    "total_loss2"
   ]
  },
  {
   "cell_type": "markdown",
   "metadata": {},
   "source": [
    "Cree una variable llamada `better_fit` y asígnela a `a1` si la línea 1 encaja mejor con los datos y `a2` si la línea 2 encaja mejor con los datos."
   ]
  },
  {
   "cell_type": "code",
   "execution_count": 61,
   "metadata": {},
   "outputs": [],
   "source": [
    "better_fit = y_predicted2"
   ]
  },
  {
   "cell_type": "code",
   "execution_count": 62,
   "metadata": {},
   "outputs": [
    {
     "data": {
      "text/plain": [
       "[1.5, 2.0, 2.5]"
      ]
     },
     "execution_count": 62,
     "metadata": {},
     "output_type": "execute_result"
    }
   ],
   "source": [
    "better_fit"
   ]
  }
 ],
 "metadata": {
  "kernelspec": {
   "display_name": "Python 3",
   "language": "python",
   "name": "python3"
  },
  "language_info": {
   "codemirror_mode": {
    "name": "ipython",
    "version": 3
   },
   "file_extension": ".py",
   "mimetype": "text/x-python",
   "name": "python",
   "nbconvert_exporter": "python",
   "pygments_lexer": "ipython3",
   "version": "3.8.5"
  }
 },
 "nbformat": 4,
 "nbformat_minor": 2
}
